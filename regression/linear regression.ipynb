{
 "cells": [
  {
   "attachments": {},
   "cell_type": "markdown",
   "metadata": {},
   "source": []
  },
  {
   "cell_type": "code",
   "execution_count": 1,
   "metadata": {},
   "outputs": [],
   "source": [
    "import pandas as pd\n",
    "import numpy as np\n",
    "import matplotlib.pyplot as plt\n",
    "from LinearRegression import LinearRegression\n",
    "\n",
    "data=pd.read_csv(\"Medical Price Dataset.csv\")"
   ]
  },
  {
   "cell_type": "code",
   "execution_count": 2,
   "metadata": {},
   "outputs": [
    {
     "data": {
      "text/html": [
       "<div>\n",
       "<style scoped>\n",
       "    .dataframe tbody tr th:only-of-type {\n",
       "        vertical-align: middle;\n",
       "    }\n",
       "\n",
       "    .dataframe tbody tr th {\n",
       "        vertical-align: top;\n",
       "    }\n",
       "\n",
       "    .dataframe thead th {\n",
       "        text-align: right;\n",
       "    }\n",
       "</style>\n",
       "<table border=\"1\" class=\"dataframe\">\n",
       "  <thead>\n",
       "    <tr style=\"text-align: right;\">\n",
       "      <th></th>\n",
       "      <th>age</th>\n",
       "      <th>sex</th>\n",
       "      <th>bmi</th>\n",
       "      <th>children</th>\n",
       "      <th>smoker</th>\n",
       "      <th>region</th>\n",
       "      <th>charges</th>\n",
       "    </tr>\n",
       "  </thead>\n",
       "  <tbody>\n",
       "    <tr>\n",
       "      <th>0</th>\n",
       "      <td>19</td>\n",
       "      <td>female</td>\n",
       "      <td>27.900</td>\n",
       "      <td>0</td>\n",
       "      <td>yes</td>\n",
       "      <td>southwest</td>\n",
       "      <td>16884.92400</td>\n",
       "    </tr>\n",
       "    <tr>\n",
       "      <th>1</th>\n",
       "      <td>18</td>\n",
       "      <td>male</td>\n",
       "      <td>33.770</td>\n",
       "      <td>1</td>\n",
       "      <td>no</td>\n",
       "      <td>southeast</td>\n",
       "      <td>1725.55230</td>\n",
       "    </tr>\n",
       "    <tr>\n",
       "      <th>2</th>\n",
       "      <td>28</td>\n",
       "      <td>male</td>\n",
       "      <td>33.000</td>\n",
       "      <td>3</td>\n",
       "      <td>no</td>\n",
       "      <td>southeast</td>\n",
       "      <td>4449.46200</td>\n",
       "    </tr>\n",
       "    <tr>\n",
       "      <th>3</th>\n",
       "      <td>33</td>\n",
       "      <td>male</td>\n",
       "      <td>22.705</td>\n",
       "      <td>0</td>\n",
       "      <td>no</td>\n",
       "      <td>northwest</td>\n",
       "      <td>21984.47061</td>\n",
       "    </tr>\n",
       "    <tr>\n",
       "      <th>4</th>\n",
       "      <td>32</td>\n",
       "      <td>male</td>\n",
       "      <td>28.880</td>\n",
       "      <td>0</td>\n",
       "      <td>no</td>\n",
       "      <td>northwest</td>\n",
       "      <td>3866.85520</td>\n",
       "    </tr>\n",
       "  </tbody>\n",
       "</table>\n",
       "</div>"
      ],
      "text/plain": [
       "   age     sex     bmi  children smoker     region      charges\n",
       "0   19  female  27.900         0    yes  southwest  16884.92400\n",
       "1   18    male  33.770         1     no  southeast   1725.55230\n",
       "2   28    male  33.000         3     no  southeast   4449.46200\n",
       "3   33    male  22.705         0     no  northwest  21984.47061\n",
       "4   32    male  28.880         0     no  northwest   3866.85520"
      ]
     },
     "execution_count": 2,
     "metadata": {},
     "output_type": "execute_result"
    }
   ],
   "source": [
    "data.head()#it print the 1st five values of data stored in data"
   ]
  },
  {
   "cell_type": "code",
   "execution_count": 3,
   "metadata": {},
   "outputs": [
    {
     "data": {
      "text/html": [
       "<div>\n",
       "<style scoped>\n",
       "    .dataframe tbody tr th:only-of-type {\n",
       "        vertical-align: middle;\n",
       "    }\n",
       "\n",
       "    .dataframe tbody tr th {\n",
       "        vertical-align: top;\n",
       "    }\n",
       "\n",
       "    .dataframe thead th {\n",
       "        text-align: right;\n",
       "    }\n",
       "</style>\n",
       "<table border=\"1\" class=\"dataframe\">\n",
       "  <thead>\n",
       "    <tr style=\"text-align: right;\">\n",
       "      <th></th>\n",
       "      <th>age</th>\n",
       "      <th>bmi</th>\n",
       "      <th>children</th>\n",
       "      <th>charges</th>\n",
       "    </tr>\n",
       "  </thead>\n",
       "  <tbody>\n",
       "    <tr>\n",
       "      <th>count</th>\n",
       "      <td>1338.000000</td>\n",
       "      <td>1338.000000</td>\n",
       "      <td>1338.000000</td>\n",
       "      <td>1338.000000</td>\n",
       "    </tr>\n",
       "    <tr>\n",
       "      <th>mean</th>\n",
       "      <td>39.207025</td>\n",
       "      <td>30.663397</td>\n",
       "      <td>1.094918</td>\n",
       "      <td>13270.422265</td>\n",
       "    </tr>\n",
       "    <tr>\n",
       "      <th>std</th>\n",
       "      <td>14.049960</td>\n",
       "      <td>6.098187</td>\n",
       "      <td>1.205493</td>\n",
       "      <td>12110.011237</td>\n",
       "    </tr>\n",
       "    <tr>\n",
       "      <th>min</th>\n",
       "      <td>18.000000</td>\n",
       "      <td>15.960000</td>\n",
       "      <td>0.000000</td>\n",
       "      <td>1121.873900</td>\n",
       "    </tr>\n",
       "    <tr>\n",
       "      <th>25%</th>\n",
       "      <td>27.000000</td>\n",
       "      <td>26.296250</td>\n",
       "      <td>0.000000</td>\n",
       "      <td>4740.287150</td>\n",
       "    </tr>\n",
       "    <tr>\n",
       "      <th>50%</th>\n",
       "      <td>39.000000</td>\n",
       "      <td>30.400000</td>\n",
       "      <td>1.000000</td>\n",
       "      <td>9382.033000</td>\n",
       "    </tr>\n",
       "    <tr>\n",
       "      <th>75%</th>\n",
       "      <td>51.000000</td>\n",
       "      <td>34.693750</td>\n",
       "      <td>2.000000</td>\n",
       "      <td>16639.912515</td>\n",
       "    </tr>\n",
       "    <tr>\n",
       "      <th>max</th>\n",
       "      <td>64.000000</td>\n",
       "      <td>53.130000</td>\n",
       "      <td>5.000000</td>\n",
       "      <td>63770.428010</td>\n",
       "    </tr>\n",
       "  </tbody>\n",
       "</table>\n",
       "</div>"
      ],
      "text/plain": [
       "               age          bmi     children       charges\n",
       "count  1338.000000  1338.000000  1338.000000   1338.000000\n",
       "mean     39.207025    30.663397     1.094918  13270.422265\n",
       "std      14.049960     6.098187     1.205493  12110.011237\n",
       "min      18.000000    15.960000     0.000000   1121.873900\n",
       "25%      27.000000    26.296250     0.000000   4740.287150\n",
       "50%      39.000000    30.400000     1.000000   9382.033000\n",
       "75%      51.000000    34.693750     2.000000  16639.912515\n",
       "max      64.000000    53.130000     5.000000  63770.428010"
      ]
     },
     "execution_count": 3,
     "metadata": {},
     "output_type": "execute_result"
    }
   ],
   "source": [
    "data.describe()#it describe the data stored in train like count,mean etc"
   ]
  },
  {
   "cell_type": "code",
   "execution_count": 4,
   "metadata": {},
   "outputs": [
    {
     "data": {
      "text/plain": [
       "age         0\n",
       "sex         0\n",
       "bmi         0\n",
       "children    0\n",
       "smoker      0\n",
       "region      0\n",
       "charges     0\n",
       "dtype: int64"
      ]
     },
     "execution_count": 4,
     "metadata": {},
     "output_type": "execute_result"
    }
   ],
   "source": [
    "data.isnull().sum() #this will provide the information of sum of number of null values in each coloumn"
   ]
  },
  {
   "attachments": {},
   "cell_type": "markdown",
   "metadata": {},
   "source": [
    "so data has no Nan values \n",
    "next is checking for categorical data and converting to int type."
   ]
  },
  {
   "cell_type": "code",
   "execution_count": 5,
   "metadata": {},
   "outputs": [
    {
     "name": "stdout",
     "output_type": "stream",
     "text": [
      "<class 'pandas.core.frame.DataFrame'>\n",
      "RangeIndex: 1338 entries, 0 to 1337\n",
      "Data columns (total 7 columns):\n",
      " #   Column    Non-Null Count  Dtype  \n",
      "---  ------    --------------  -----  \n",
      " 0   age       1338 non-null   int64  \n",
      " 1   sex       1338 non-null   object \n",
      " 2   bmi       1338 non-null   float64\n",
      " 3   children  1338 non-null   int64  \n",
      " 4   smoker    1338 non-null   object \n",
      " 5   region    1338 non-null   object \n",
      " 6   charges   1338 non-null   float64\n",
      "dtypes: float64(2), int64(2), object(3)\n",
      "memory usage: 73.3+ KB\n"
     ]
    }
   ],
   "source": [
    "data.info()"
   ]
  },
  {
   "attachments": {},
   "cell_type": "markdown",
   "metadata": {},
   "source": [
    "so there are 4 object types , we will convert to int or float.\n",
    "1st is sex coloumn"
   ]
  },
  {
   "cell_type": "code",
   "execution_count": 6,
   "metadata": {},
   "outputs": [
    {
     "name": "stdout",
     "output_type": "stream",
     "text": [
      "<class 'pandas.core.series.Series'>\n",
      "RangeIndex: 1338 entries, 0 to 1337\n",
      "Series name: sex\n",
      "Non-Null Count  Dtype \n",
      "--------------  ----- \n",
      "1338 non-null   object\n",
      "dtypes: object(1)\n",
      "memory usage: 10.6+ KB\n"
     ]
    }
   ],
   "source": [
    "data['sex'].info()"
   ]
  },
  {
   "cell_type": "code",
   "execution_count": 7,
   "metadata": {},
   "outputs": [
    {
     "data": {
      "text/plain": [
       "array(['female', 'male'], dtype=object)"
      ]
     },
     "execution_count": 7,
     "metadata": {},
     "output_type": "execute_result"
    }
   ],
   "source": [
    "data['sex'].unique() # it provides information about unique valus in the coloumn"
   ]
  },
  {
   "cell_type": "code",
   "execution_count": 8,
   "metadata": {},
   "outputs": [
    {
     "data": {
      "text/html": [
       "<div>\n",
       "<style scoped>\n",
       "    .dataframe tbody tr th:only-of-type {\n",
       "        vertical-align: middle;\n",
       "    }\n",
       "\n",
       "    .dataframe tbody tr th {\n",
       "        vertical-align: top;\n",
       "    }\n",
       "\n",
       "    .dataframe thead th {\n",
       "        text-align: right;\n",
       "    }\n",
       "</style>\n",
       "<table border=\"1\" class=\"dataframe\">\n",
       "  <thead>\n",
       "    <tr style=\"text-align: right;\">\n",
       "      <th></th>\n",
       "      <th>age</th>\n",
       "      <th>sex</th>\n",
       "      <th>bmi</th>\n",
       "      <th>children</th>\n",
       "      <th>smoker</th>\n",
       "      <th>region</th>\n",
       "      <th>charges</th>\n",
       "    </tr>\n",
       "  </thead>\n",
       "  <tbody>\n",
       "    <tr>\n",
       "      <th>0</th>\n",
       "      <td>19</td>\n",
       "      <td>0</td>\n",
       "      <td>27.900</td>\n",
       "      <td>0</td>\n",
       "      <td>yes</td>\n",
       "      <td>southwest</td>\n",
       "      <td>16884.92400</td>\n",
       "    </tr>\n",
       "    <tr>\n",
       "      <th>1</th>\n",
       "      <td>18</td>\n",
       "      <td>1</td>\n",
       "      <td>33.770</td>\n",
       "      <td>1</td>\n",
       "      <td>no</td>\n",
       "      <td>southeast</td>\n",
       "      <td>1725.55230</td>\n",
       "    </tr>\n",
       "    <tr>\n",
       "      <th>2</th>\n",
       "      <td>28</td>\n",
       "      <td>1</td>\n",
       "      <td>33.000</td>\n",
       "      <td>3</td>\n",
       "      <td>no</td>\n",
       "      <td>southeast</td>\n",
       "      <td>4449.46200</td>\n",
       "    </tr>\n",
       "    <tr>\n",
       "      <th>3</th>\n",
       "      <td>33</td>\n",
       "      <td>1</td>\n",
       "      <td>22.705</td>\n",
       "      <td>0</td>\n",
       "      <td>no</td>\n",
       "      <td>northwest</td>\n",
       "      <td>21984.47061</td>\n",
       "    </tr>\n",
       "    <tr>\n",
       "      <th>4</th>\n",
       "      <td>32</td>\n",
       "      <td>1</td>\n",
       "      <td>28.880</td>\n",
       "      <td>0</td>\n",
       "      <td>no</td>\n",
       "      <td>northwest</td>\n",
       "      <td>3866.85520</td>\n",
       "    </tr>\n",
       "  </tbody>\n",
       "</table>\n",
       "</div>"
      ],
      "text/plain": [
       "   age  sex     bmi  children smoker     region      charges\n",
       "0   19    0  27.900         0    yes  southwest  16884.92400\n",
       "1   18    1  33.770         1     no  southeast   1725.55230\n",
       "2   28    1  33.000         3     no  southeast   4449.46200\n",
       "3   33    1  22.705         0     no  northwest  21984.47061\n",
       "4   32    1  28.880         0     no  northwest   3866.85520"
      ]
     },
     "execution_count": 8,
     "metadata": {},
     "output_type": "execute_result"
    }
   ],
   "source": [
    "Sex_dict={\"female\":0,\"male\":1} # here  dictionry which is like map of cpp, is described \n",
    "data[\"sex\"]=data[\"sex\"].map(Sex_dict) #sex coloumn values are mapped with dictionary and female will now become 0,male will be 1\n",
    "data.head()"
   ]
  },
  {
   "cell_type": "code",
   "execution_count": 9,
   "metadata": {},
   "outputs": [
    {
     "data": {
      "text/plain": [
       "array(['yes', 'no'], dtype=object)"
      ]
     },
     "execution_count": 9,
     "metadata": {},
     "output_type": "execute_result"
    }
   ],
   "source": [
    "data['smoker'].unique()"
   ]
  },
  {
   "cell_type": "code",
   "execution_count": 10,
   "metadata": {},
   "outputs": [
    {
     "data": {
      "text/plain": [
       "0    1\n",
       "1    0\n",
       "2    0\n",
       "3    0\n",
       "4    0\n",
       "Name: smoker, dtype: int64"
      ]
     },
     "execution_count": 10,
     "metadata": {},
     "output_type": "execute_result"
    }
   ],
   "source": [
    "Smoker_dict={\"no\":0,\"yes\":1} # same thng is done with smoker coloumn ; values are mapped in dataset\n",
    "data[\"smoker\"]=data[\"smoker\"].map(Smoker_dict)\n",
    "data['smoker'].head()"
   ]
  },
  {
   "cell_type": "code",
   "execution_count": 11,
   "metadata": {},
   "outputs": [
    {
     "data": {
      "text/html": [
       "<div>\n",
       "<style scoped>\n",
       "    .dataframe tbody tr th:only-of-type {\n",
       "        vertical-align: middle;\n",
       "    }\n",
       "\n",
       "    .dataframe tbody tr th {\n",
       "        vertical-align: top;\n",
       "    }\n",
       "\n",
       "    .dataframe thead th {\n",
       "        text-align: right;\n",
       "    }\n",
       "</style>\n",
       "<table border=\"1\" class=\"dataframe\">\n",
       "  <thead>\n",
       "    <tr style=\"text-align: right;\">\n",
       "      <th></th>\n",
       "      <th>age</th>\n",
       "      <th>sex</th>\n",
       "      <th>bmi</th>\n",
       "      <th>children</th>\n",
       "      <th>smoker</th>\n",
       "      <th>region</th>\n",
       "      <th>charges</th>\n",
       "    </tr>\n",
       "  </thead>\n",
       "  <tbody>\n",
       "    <tr>\n",
       "      <th>0</th>\n",
       "      <td>19</td>\n",
       "      <td>0</td>\n",
       "      <td>27.900</td>\n",
       "      <td>0</td>\n",
       "      <td>1</td>\n",
       "      <td>southwest</td>\n",
       "      <td>16884.92400</td>\n",
       "    </tr>\n",
       "    <tr>\n",
       "      <th>1</th>\n",
       "      <td>18</td>\n",
       "      <td>1</td>\n",
       "      <td>33.770</td>\n",
       "      <td>1</td>\n",
       "      <td>0</td>\n",
       "      <td>southeast</td>\n",
       "      <td>1725.55230</td>\n",
       "    </tr>\n",
       "    <tr>\n",
       "      <th>2</th>\n",
       "      <td>28</td>\n",
       "      <td>1</td>\n",
       "      <td>33.000</td>\n",
       "      <td>3</td>\n",
       "      <td>0</td>\n",
       "      <td>southeast</td>\n",
       "      <td>4449.46200</td>\n",
       "    </tr>\n",
       "    <tr>\n",
       "      <th>3</th>\n",
       "      <td>33</td>\n",
       "      <td>1</td>\n",
       "      <td>22.705</td>\n",
       "      <td>0</td>\n",
       "      <td>0</td>\n",
       "      <td>northwest</td>\n",
       "      <td>21984.47061</td>\n",
       "    </tr>\n",
       "    <tr>\n",
       "      <th>4</th>\n",
       "      <td>32</td>\n",
       "      <td>1</td>\n",
       "      <td>28.880</td>\n",
       "      <td>0</td>\n",
       "      <td>0</td>\n",
       "      <td>northwest</td>\n",
       "      <td>3866.85520</td>\n",
       "    </tr>\n",
       "  </tbody>\n",
       "</table>\n",
       "</div>"
      ],
      "text/plain": [
       "   age  sex     bmi  children  smoker     region      charges\n",
       "0   19    0  27.900         0       1  southwest  16884.92400\n",
       "1   18    1  33.770         1       0  southeast   1725.55230\n",
       "2   28    1  33.000         3       0  southeast   4449.46200\n",
       "3   33    1  22.705         0       0  northwest  21984.47061\n",
       "4   32    1  28.880         0       0  northwest   3866.85520"
      ]
     },
     "execution_count": 11,
     "metadata": {},
     "output_type": "execute_result"
    }
   ],
   "source": [
    "data.head()"
   ]
  },
  {
   "cell_type": "code",
   "execution_count": 12,
   "metadata": {},
   "outputs": [
    {
     "data": {
      "text/plain": [
       "count          1338\n",
       "unique            4\n",
       "top       southeast\n",
       "freq            364\n",
       "Name: region, dtype: object"
      ]
     },
     "execution_count": 12,
     "metadata": {},
     "output_type": "execute_result"
    }
   ],
   "source": [
    "data['region'].describe()"
   ]
  },
  {
   "cell_type": "code",
   "execution_count": 13,
   "metadata": {},
   "outputs": [
    {
     "data": {
      "text/plain": [
       "array(['southwest', 'southeast', 'northwest', 'northeast'], dtype=object)"
      ]
     },
     "execution_count": 13,
     "metadata": {},
     "output_type": "execute_result"
    }
   ],
   "source": [
    "data['region'].unique()"
   ]
  },
  {
   "attachments": {},
   "cell_type": "markdown",
   "metadata": {},
   "source": [
    "so now we will map all 4 region with 0,1,2,3 respectively to ans above"
   ]
  },
  {
   "cell_type": "code",
   "execution_count": 14,
   "metadata": {},
   "outputs": [
    {
     "data": {
      "text/plain": [
       "0    0\n",
       "1    1\n",
       "2    1\n",
       "3    2\n",
       "4    2\n",
       "Name: region, dtype: int64"
      ]
     },
     "execution_count": 14,
     "metadata": {},
     "output_type": "execute_result"
    }
   ],
   "source": [
    "region_dict={\"southwest\":0,\"southeast\":1,\"northwest\":2,\"northeast\":3} # same thng is done with region coloumn ; values are mapped in dataset\n",
    "data[\"region\"]=data[\"region\"].map(region_dict)\n",
    "data['region'].head()"
   ]
  },
  {
   "cell_type": "code",
   "execution_count": 15,
   "metadata": {},
   "outputs": [
    {
     "data": {
      "text/html": [
       "<div>\n",
       "<style scoped>\n",
       "    .dataframe tbody tr th:only-of-type {\n",
       "        vertical-align: middle;\n",
       "    }\n",
       "\n",
       "    .dataframe tbody tr th {\n",
       "        vertical-align: top;\n",
       "    }\n",
       "\n",
       "    .dataframe thead th {\n",
       "        text-align: right;\n",
       "    }\n",
       "</style>\n",
       "<table border=\"1\" class=\"dataframe\">\n",
       "  <thead>\n",
       "    <tr style=\"text-align: right;\">\n",
       "      <th></th>\n",
       "      <th>age</th>\n",
       "      <th>sex</th>\n",
       "      <th>bmi</th>\n",
       "      <th>children</th>\n",
       "      <th>smoker</th>\n",
       "      <th>region</th>\n",
       "      <th>charges</th>\n",
       "    </tr>\n",
       "  </thead>\n",
       "  <tbody>\n",
       "    <tr>\n",
       "      <th>0</th>\n",
       "      <td>19</td>\n",
       "      <td>0</td>\n",
       "      <td>27.900</td>\n",
       "      <td>0</td>\n",
       "      <td>1</td>\n",
       "      <td>0</td>\n",
       "      <td>16884.92400</td>\n",
       "    </tr>\n",
       "    <tr>\n",
       "      <th>1</th>\n",
       "      <td>18</td>\n",
       "      <td>1</td>\n",
       "      <td>33.770</td>\n",
       "      <td>1</td>\n",
       "      <td>0</td>\n",
       "      <td>1</td>\n",
       "      <td>1725.55230</td>\n",
       "    </tr>\n",
       "    <tr>\n",
       "      <th>2</th>\n",
       "      <td>28</td>\n",
       "      <td>1</td>\n",
       "      <td>33.000</td>\n",
       "      <td>3</td>\n",
       "      <td>0</td>\n",
       "      <td>1</td>\n",
       "      <td>4449.46200</td>\n",
       "    </tr>\n",
       "    <tr>\n",
       "      <th>3</th>\n",
       "      <td>33</td>\n",
       "      <td>1</td>\n",
       "      <td>22.705</td>\n",
       "      <td>0</td>\n",
       "      <td>0</td>\n",
       "      <td>2</td>\n",
       "      <td>21984.47061</td>\n",
       "    </tr>\n",
       "    <tr>\n",
       "      <th>4</th>\n",
       "      <td>32</td>\n",
       "      <td>1</td>\n",
       "      <td>28.880</td>\n",
       "      <td>0</td>\n",
       "      <td>0</td>\n",
       "      <td>2</td>\n",
       "      <td>3866.85520</td>\n",
       "    </tr>\n",
       "    <tr>\n",
       "      <th>5</th>\n",
       "      <td>31</td>\n",
       "      <td>0</td>\n",
       "      <td>25.740</td>\n",
       "      <td>0</td>\n",
       "      <td>0</td>\n",
       "      <td>1</td>\n",
       "      <td>3756.62160</td>\n",
       "    </tr>\n",
       "    <tr>\n",
       "      <th>6</th>\n",
       "      <td>46</td>\n",
       "      <td>0</td>\n",
       "      <td>33.440</td>\n",
       "      <td>1</td>\n",
       "      <td>0</td>\n",
       "      <td>1</td>\n",
       "      <td>8240.58960</td>\n",
       "    </tr>\n",
       "    <tr>\n",
       "      <th>7</th>\n",
       "      <td>37</td>\n",
       "      <td>0</td>\n",
       "      <td>27.740</td>\n",
       "      <td>3</td>\n",
       "      <td>0</td>\n",
       "      <td>2</td>\n",
       "      <td>7281.50560</td>\n",
       "    </tr>\n",
       "    <tr>\n",
       "      <th>8</th>\n",
       "      <td>37</td>\n",
       "      <td>1</td>\n",
       "      <td>29.830</td>\n",
       "      <td>2</td>\n",
       "      <td>0</td>\n",
       "      <td>3</td>\n",
       "      <td>6406.41070</td>\n",
       "    </tr>\n",
       "    <tr>\n",
       "      <th>9</th>\n",
       "      <td>60</td>\n",
       "      <td>0</td>\n",
       "      <td>25.840</td>\n",
       "      <td>0</td>\n",
       "      <td>0</td>\n",
       "      <td>2</td>\n",
       "      <td>28923.13692</td>\n",
       "    </tr>\n",
       "    <tr>\n",
       "      <th>10</th>\n",
       "      <td>25</td>\n",
       "      <td>1</td>\n",
       "      <td>26.220</td>\n",
       "      <td>0</td>\n",
       "      <td>0</td>\n",
       "      <td>3</td>\n",
       "      <td>2721.32080</td>\n",
       "    </tr>\n",
       "    <tr>\n",
       "      <th>11</th>\n",
       "      <td>62</td>\n",
       "      <td>0</td>\n",
       "      <td>26.290</td>\n",
       "      <td>0</td>\n",
       "      <td>1</td>\n",
       "      <td>1</td>\n",
       "      <td>27808.72510</td>\n",
       "    </tr>\n",
       "    <tr>\n",
       "      <th>12</th>\n",
       "      <td>23</td>\n",
       "      <td>1</td>\n",
       "      <td>34.400</td>\n",
       "      <td>0</td>\n",
       "      <td>0</td>\n",
       "      <td>0</td>\n",
       "      <td>1826.84300</td>\n",
       "    </tr>\n",
       "    <tr>\n",
       "      <th>13</th>\n",
       "      <td>56</td>\n",
       "      <td>0</td>\n",
       "      <td>39.820</td>\n",
       "      <td>0</td>\n",
       "      <td>0</td>\n",
       "      <td>1</td>\n",
       "      <td>11090.71780</td>\n",
       "    </tr>\n",
       "    <tr>\n",
       "      <th>14</th>\n",
       "      <td>27</td>\n",
       "      <td>1</td>\n",
       "      <td>42.130</td>\n",
       "      <td>0</td>\n",
       "      <td>1</td>\n",
       "      <td>1</td>\n",
       "      <td>39611.75770</td>\n",
       "    </tr>\n",
       "    <tr>\n",
       "      <th>15</th>\n",
       "      <td>19</td>\n",
       "      <td>1</td>\n",
       "      <td>24.600</td>\n",
       "      <td>1</td>\n",
       "      <td>0</td>\n",
       "      <td>0</td>\n",
       "      <td>1837.23700</td>\n",
       "    </tr>\n",
       "    <tr>\n",
       "      <th>16</th>\n",
       "      <td>52</td>\n",
       "      <td>0</td>\n",
       "      <td>30.780</td>\n",
       "      <td>1</td>\n",
       "      <td>0</td>\n",
       "      <td>3</td>\n",
       "      <td>10797.33620</td>\n",
       "    </tr>\n",
       "    <tr>\n",
       "      <th>17</th>\n",
       "      <td>23</td>\n",
       "      <td>1</td>\n",
       "      <td>23.845</td>\n",
       "      <td>0</td>\n",
       "      <td>0</td>\n",
       "      <td>3</td>\n",
       "      <td>2395.17155</td>\n",
       "    </tr>\n",
       "    <tr>\n",
       "      <th>18</th>\n",
       "      <td>56</td>\n",
       "      <td>1</td>\n",
       "      <td>40.300</td>\n",
       "      <td>0</td>\n",
       "      <td>0</td>\n",
       "      <td>0</td>\n",
       "      <td>10602.38500</td>\n",
       "    </tr>\n",
       "    <tr>\n",
       "      <th>19</th>\n",
       "      <td>30</td>\n",
       "      <td>1</td>\n",
       "      <td>35.300</td>\n",
       "      <td>0</td>\n",
       "      <td>1</td>\n",
       "      <td>0</td>\n",
       "      <td>36837.46700</td>\n",
       "    </tr>\n",
       "  </tbody>\n",
       "</table>\n",
       "</div>"
      ],
      "text/plain": [
       "    age  sex     bmi  children  smoker  region      charges\n",
       "0    19    0  27.900         0       1       0  16884.92400\n",
       "1    18    1  33.770         1       0       1   1725.55230\n",
       "2    28    1  33.000         3       0       1   4449.46200\n",
       "3    33    1  22.705         0       0       2  21984.47061\n",
       "4    32    1  28.880         0       0       2   3866.85520\n",
       "5    31    0  25.740         0       0       1   3756.62160\n",
       "6    46    0  33.440         1       0       1   8240.58960\n",
       "7    37    0  27.740         3       0       2   7281.50560\n",
       "8    37    1  29.830         2       0       3   6406.41070\n",
       "9    60    0  25.840         0       0       2  28923.13692\n",
       "10   25    1  26.220         0       0       3   2721.32080\n",
       "11   62    0  26.290         0       1       1  27808.72510\n",
       "12   23    1  34.400         0       0       0   1826.84300\n",
       "13   56    0  39.820         0       0       1  11090.71780\n",
       "14   27    1  42.130         0       1       1  39611.75770\n",
       "15   19    1  24.600         1       0       0   1837.23700\n",
       "16   52    0  30.780         1       0       3  10797.33620\n",
       "17   23    1  23.845         0       0       3   2395.17155\n",
       "18   56    1  40.300         0       0       0  10602.38500\n",
       "19   30    1  35.300         0       1       0  36837.46700"
      ]
     },
     "execution_count": 15,
     "metadata": {},
     "output_type": "execute_result"
    }
   ],
   "source": [
    "data.head(20)"
   ]
  },
  {
   "cell_type": "code",
   "execution_count": 16,
   "metadata": {},
   "outputs": [
    {
     "name": "stdout",
     "output_type": "stream",
     "text": [
      "<class 'pandas.core.frame.DataFrame'>\n",
      "RangeIndex: 1338 entries, 0 to 1337\n",
      "Data columns (total 7 columns):\n",
      " #   Column    Non-Null Count  Dtype  \n",
      "---  ------    --------------  -----  \n",
      " 0   age       1338 non-null   int64  \n",
      " 1   sex       1338 non-null   int64  \n",
      " 2   bmi       1338 non-null   float64\n",
      " 3   children  1338 non-null   int64  \n",
      " 4   smoker    1338 non-null   int64  \n",
      " 5   region    1338 non-null   int64  \n",
      " 6   charges   1338 non-null   float64\n",
      "dtypes: float64(2), int64(5)\n",
      "memory usage: 73.3 KB\n"
     ]
    }
   ],
   "source": [
    "data.info()"
   ]
  },
  {
   "cell_type": "code",
   "execution_count": 17,
   "metadata": {},
   "outputs": [
    {
     "name": "stdout",
     "output_type": "stream",
     "text": [
      "<class 'pandas.core.series.Series'>\n",
      "RangeIndex: 1338 entries, 0 to 1337\n",
      "Series name: age\n",
      "Non-Null Count  Dtype\n",
      "--------------  -----\n",
      "1338 non-null   int64\n",
      "dtypes: int64(1)\n",
      "memory usage: 10.6 KB\n"
     ]
    }
   ],
   "source": [
    "data['age'].info()"
   ]
  },
  {
   "cell_type": "code",
   "execution_count": 18,
   "metadata": {},
   "outputs": [
    {
     "data": {
      "text/plain": [
       "count    1338.000000\n",
       "mean       30.663397\n",
       "std         6.098187\n",
       "min        15.960000\n",
       "25%        26.296250\n",
       "50%        30.400000\n",
       "75%        34.693750\n",
       "max        53.130000\n",
       "Name: bmi, dtype: float64"
      ]
     },
     "execution_count": 18,
     "metadata": {},
     "output_type": "execute_result"
    }
   ],
   "source": [
    "data['bmi'].describe()"
   ]
  },
  {
   "cell_type": "code",
   "execution_count": 19,
   "metadata": {},
   "outputs": [
    {
     "data": {
      "text/plain": [
       "array([19, 18, 28, 33, 32, 31, 46, 37, 60, 25, 62, 23, 56, 27, 52, 30, 34,\n",
       "       59, 63, 55, 22, 26, 35, 24, 41, 38, 36, 21, 48, 40, 58, 53, 43, 64,\n",
       "       20, 61, 44, 57, 29, 45, 54, 49, 47, 51, 42, 50, 39], dtype=int64)"
      ]
     },
     "execution_count": 19,
     "metadata": {},
     "output_type": "execute_result"
    }
   ],
   "source": [
    "data['age'].unique()"
   ]
  },
  {
   "cell_type": "code",
   "execution_count": 20,
   "metadata": {},
   "outputs": [
    {
     "data": {
      "text/plain": [
       "0     1\n",
       "1     1\n",
       "2     2\n",
       "3     3\n",
       "4     3\n",
       "5     3\n",
       "6     4\n",
       "7     3\n",
       "8     3\n",
       "9     6\n",
       "10    2\n",
       "11    6\n",
       "12    2\n",
       "13    5\n",
       "14    2\n",
       "15    1\n",
       "16    5\n",
       "17    2\n",
       "18    5\n",
       "19    3\n",
       "20    6\n",
       "21    3\n",
       "22    1\n",
       "23    3\n",
       "24    3\n",
       "25    5\n",
       "26    6\n",
       "27    5\n",
       "28    2\n",
       "29    3\n",
       "Name: age, dtype: int32"
      ]
     },
     "execution_count": 20,
     "metadata": {},
     "output_type": "execute_result"
    }
   ],
   "source": [
    "age_range = [0, 11, 20, 30, 40, 50, 60, 70, float('inf')] #here age range is taken\n",
    "age_range_dict = [0, 1, 2, 3, 4, 5, 6, 7] # wrt to age range the dictionary of mapping values are defined\n",
    "\n",
    "# now we will have bins described in age range in which value between 0,10 are mapped with 1, here right=False means rightmost value is not included in range\n",
    "# and Include_lowest=true means lowest value of range sholud be part of range wrt to defined mapping\n",
    "data['age'] = pd.cut(data['age'], bins=age_range, labels=age_range_dict, right=False, include_lowest=True).astype(int)\n",
    "data['age'].head(30)"
   ]
  },
  {
   "cell_type": "code",
   "execution_count": 21,
   "metadata": {},
   "outputs": [
    {
     "data": {
      "text/plain": [
       "array([27.9  , 33.77 , 33.   , 22.705, 28.88 , 25.74 , 33.44 , 27.74 ,\n",
       "       29.83 , 25.84 , 26.22 , 26.29 , 34.4  , 39.82 , 42.13 , 24.6  ,\n",
       "       30.78 , 23.845, 40.3  , 35.3  , 36.005, 32.4  , 34.1  , 31.92 ,\n",
       "       28.025, 27.72 , 23.085, 32.775, 17.385, 36.3  , 35.6  , 26.315,\n",
       "       28.6  , 28.31 , 36.4  , 20.425, 32.965, 20.8  , 36.67 , 39.9  ,\n",
       "       26.6  , 36.63 , 21.78 , 30.8  , 37.05 , 37.3  , 38.665, 34.77 ,\n",
       "       24.53 , 35.2  , 35.625, 33.63 , 28.   , 34.43 , 28.69 , 36.955,\n",
       "       31.825, 31.68 , 22.88 , 37.335, 27.36 , 33.66 , 24.7  , 25.935,\n",
       "       22.42 , 28.9  , 39.1  , 36.19 , 23.98 , 24.75 , 28.5  , 28.1  ,\n",
       "       32.01 , 27.4  , 34.01 , 29.59 , 35.53 , 39.805, 26.885, 38.285,\n",
       "       37.62 , 41.23 , 34.8  , 22.895, 31.16 , 27.2  , 26.98 , 39.49 ,\n",
       "       24.795, 31.3  , 38.28 , 19.95 , 19.3  , 31.6  , 25.46 , 30.115,\n",
       "       29.92 , 27.5  , 28.4  , 30.875, 27.94 , 35.09 , 29.7  , 35.72 ,\n",
       "       32.205, 28.595, 49.06 , 27.17 , 23.37 , 37.1  , 23.75 , 28.975,\n",
       "       31.35 , 33.915, 28.785, 28.3  , 37.4  , 17.765, 34.7  , 26.505,\n",
       "       22.04 , 35.9  , 25.555, 28.05 , 25.175, 31.9  , 36.   , 32.49 ,\n",
       "       25.3  , 29.735, 38.83 , 30.495, 37.73 , 37.43 , 24.13 , 37.145,\n",
       "       39.52 , 24.42 , 27.83 , 36.85 , 39.6  , 29.8  , 29.64 , 28.215,\n",
       "       37.   , 33.155, 18.905, 41.47 , 30.3  , 15.96 , 33.345, 37.7  ,\n",
       "       27.835, 29.2  , 26.41 , 30.69 , 41.895, 30.9  , 32.2  , 32.11 ,\n",
       "       31.57 , 26.2  , 30.59 , 32.8  , 18.05 , 39.33 , 32.23 , 24.035,\n",
       "       36.08 , 22.3  , 26.4  , 31.8  , 26.73 , 23.1  , 23.21 , 33.7  ,\n",
       "       33.25 , 24.64 , 33.88 , 38.06 , 41.91 , 31.635, 36.195, 17.8  ,\n",
       "       24.51 , 22.22 , 38.39 , 29.07 , 22.135, 26.8  , 30.02 , 35.86 ,\n",
       "       20.9  , 17.29 , 34.21 , 25.365, 40.15 , 24.415, 25.2  , 26.84 ,\n",
       "       24.32 , 42.35 , 19.8  , 32.395, 30.2  , 29.37 , 34.2  , 27.455,\n",
       "       27.55 , 20.615, 24.3  , 31.79 , 21.56 , 28.12 , 40.565, 27.645,\n",
       "       31.2  , 26.62 , 48.07 , 36.765, 33.4  , 45.54 , 28.82 , 22.99 ,\n",
       "       27.7  , 25.41 , 34.39 , 22.61 , 37.51 , 38.   , 33.33 , 34.865,\n",
       "       33.06 , 35.97 , 31.4  , 25.27 , 40.945, 34.105, 36.48 , 33.8  ,\n",
       "       36.7  , 36.385, 34.5  , 32.3  , 27.6  , 29.26 , 35.75 , 23.18 ,\n",
       "       25.6  , 35.245, 43.89 , 20.79 , 30.5  , 21.7  , 21.89 , 24.985,\n",
       "       32.015, 30.4  , 21.09 , 22.23 , 32.9  , 24.89 , 31.46 , 17.955,\n",
       "       30.685, 43.34 , 39.05 , 30.21 , 31.445, 19.855, 31.02 , 38.17 ,\n",
       "       20.6  , 47.52 , 20.4  , 38.38 , 24.31 , 23.6  , 21.12 , 30.03 ,\n",
       "       17.48 , 20.235, 17.195, 23.9  , 35.15 , 35.64 , 22.6  , 39.16 ,\n",
       "       27.265, 29.165, 16.815, 33.1  , 26.9  , 33.11 , 31.73 , 46.75 ,\n",
       "       29.45 , 32.68 , 33.5  , 43.01 , 36.52 , 26.695, 25.65 , 29.6  ,\n",
       "       38.6  , 23.4  , 46.53 , 30.14 , 30.   , 38.095, 28.38 , 28.7  ,\n",
       "       33.82 , 24.09 , 32.67 , 25.1  , 32.56 , 41.325, 39.5  , 34.3  ,\n",
       "       31.065, 21.47 , 25.08 , 43.4  , 25.7  , 27.93 , 39.2  , 26.03 ,\n",
       "       30.25 , 28.93 , 35.7  , 35.31 , 31.   , 44.22 , 26.07 , 25.8  ,\n",
       "       39.425, 40.48 , 38.9  , 47.41 , 35.435, 46.7  , 46.2  , 21.4  ,\n",
       "       23.8  , 44.77 , 32.12 , 29.1  , 37.29 , 43.12 , 36.86 , 34.295,\n",
       "       23.465, 45.43 , 23.65 , 20.7  , 28.27 , 35.91 , 29.   , 19.57 ,\n",
       "       31.13 , 21.85 , 40.26 , 33.725, 29.48 , 32.6  , 37.525, 23.655,\n",
       "       37.8  , 19.   , 21.3  , 33.535, 42.46 , 38.95 , 36.1  , 29.3  ,\n",
       "       39.7  , 38.19 , 42.4  , 34.96 , 42.68 , 31.54 , 29.81 , 21.375,\n",
       "       40.81 , 17.4  , 20.3  , 18.5  , 26.125, 41.69 , 24.1  , 36.2  ,\n",
       "       40.185, 39.27 , 34.87 , 44.745, 29.545, 23.54 , 40.47 , 40.66 ,\n",
       "       36.6  , 35.4  , 27.075, 28.405, 21.755, 40.28 , 30.1  , 32.1  ,\n",
       "       23.7  , 35.5  , 29.15 , 27.   , 37.905, 22.77 , 22.8  , 34.58 ,\n",
       "       27.1  , 19.475, 26.7  , 34.32 , 24.4  , 41.14 , 22.515, 41.8  ,\n",
       "       26.18 , 42.24 , 26.51 , 35.815, 41.42 , 36.575, 42.94 , 21.01 ,\n",
       "       24.225, 17.67 , 31.5  , 31.1  , 32.78 , 32.45 , 50.38 , 47.6  ,\n",
       "       25.4  , 29.9  , 43.7  , 24.86 , 28.8  , 29.5  , 29.04 , 38.94 ,\n",
       "       44.   , 20.045, 40.92 , 35.1  , 29.355, 32.585, 32.34 , 39.8  ,\n",
       "       24.605, 33.99 , 28.2  , 25.   , 33.2  , 23.2  , 20.1  , 32.5  ,\n",
       "       37.18 , 46.09 , 39.93 , 35.8  , 31.255, 18.335, 42.9  , 26.79 ,\n",
       "       39.615, 25.9  , 25.745, 28.16 , 23.56 , 40.5  , 35.42 , 39.995,\n",
       "       34.675, 20.52 , 23.275, 36.29 , 32.7  , 19.19 , 20.13 , 23.32 ,\n",
       "       45.32 , 34.6  , 18.715, 21.565, 23.   , 37.07 , 52.58 , 42.655,\n",
       "       21.66 , 32.   , 18.3  , 47.74 , 22.1  , 19.095, 31.24 , 29.925,\n",
       "       20.35 , 25.85 , 42.75 , 18.6  , 23.87 , 45.9  , 21.5  , 30.305,\n",
       "       44.88 , 41.1  , 40.37 , 28.49 , 33.55 , 40.375, 27.28 , 17.86 ,\n",
       "       33.3  , 39.14 , 21.945, 24.97 , 23.94 , 34.485, 21.8  , 23.3  ,\n",
       "       36.96 , 21.28 , 29.4  , 27.3  , 37.9  , 37.715, 23.76 , 25.52 ,\n",
       "       27.61 , 27.06 , 39.4  , 34.9  , 22.   , 30.36 , 27.8  , 53.13 ,\n",
       "       39.71 , 32.87 , 44.7  , 30.97 ])"
      ]
     },
     "execution_count": 21,
     "metadata": {},
     "output_type": "execute_result"
    }
   ],
   "source": [
    "data['bmi'].unique()"
   ]
  },
  {
   "cell_type": "code",
   "execution_count": 22,
   "metadata": {},
   "outputs": [],
   "source": [
    "data['bmi']=data['bmi'].astype(int)# this is used to convert te datatype to int"
   ]
  },
  {
   "cell_type": "code",
   "execution_count": 23,
   "metadata": {},
   "outputs": [
    {
     "data": {
      "text/plain": [
       "0"
      ]
     },
     "execution_count": 23,
     "metadata": {},
     "output_type": "execute_result"
    }
   ],
   "source": [
    "data['bmi'].isnull().sum()"
   ]
  },
  {
   "cell_type": "code",
   "execution_count": 24,
   "metadata": {},
   "outputs": [
    {
     "data": {
      "text/plain": [
       "0     27\n",
       "1     33\n",
       "2     33\n",
       "3     22\n",
       "4     28\n",
       "5     25\n",
       "6     33\n",
       "7     27\n",
       "8     29\n",
       "9     25\n",
       "10    26\n",
       "11    26\n",
       "12    34\n",
       "13    39\n",
       "14    42\n",
       "15    24\n",
       "16    30\n",
       "17    23\n",
       "18    40\n",
       "19    35\n",
       "20    36\n",
       "21    32\n",
       "22    34\n",
       "23    31\n",
       "24    28\n",
       "25    27\n",
       "26    23\n",
       "27    32\n",
       "28    17\n",
       "29    36\n",
       "Name: bmi, dtype: int32"
      ]
     },
     "execution_count": 24,
     "metadata": {},
     "output_type": "execute_result"
    }
   ],
   "source": [
    "data['bmi'].head(30) #this will print 1st thirty values from data"
   ]
  },
  {
   "cell_type": "code",
   "execution_count": 25,
   "metadata": {},
   "outputs": [
    {
     "data": {
      "text/plain": [
       "0     3\n",
       "1     4\n",
       "2     4\n",
       "3     2\n",
       "4     3\n",
       "5     3\n",
       "6     4\n",
       "7     3\n",
       "8     3\n",
       "9     3\n",
       "10    3\n",
       "11    3\n",
       "12    4\n",
       "13    5\n",
       "14    6\n",
       "15    2\n",
       "16    4\n",
       "17    2\n",
       "18    6\n",
       "19    5\n",
       "20    5\n",
       "21    4\n",
       "22    4\n",
       "23    4\n",
       "24    3\n",
       "25    3\n",
       "26    2\n",
       "27    4\n",
       "28    1\n",
       "29    5\n",
       "Name: bmi, dtype: int32"
      ]
     },
     "execution_count": 25,
     "metadata": {},
     "output_type": "execute_result"
    }
   ],
   "source": [
    "bmi_range = [ 10,15,20, 25,30, 35, 40, 45, 50,55 ,float('inf')] #here bmi range is taken\n",
    "bmi_range_dict = [0, 1, 2, 3, 4, 5, 6, 7,8,9] # wrt to bmi range the dictionary of mapping values are defined\n",
    "\n",
    "# now we will have bins described in bmi range in which value between 0,10 are mapped with 1, here right=False means rightmost value is not included in range\n",
    "# and Include_lowest=true means lowest value of range sholud be part of range wrt to defined mapping\n",
    "data['bmi'] = pd.cut(data['bmi'], bins=bmi_range, labels=bmi_range_dict, right=False, include_lowest=True).astype(int)\n",
    "data['bmi'].head(30)"
   ]
  },
  {
   "cell_type": "code",
   "execution_count": 26,
   "metadata": {},
   "outputs": [
    {
     "data": {
      "text/plain": [
       "0"
      ]
     },
     "execution_count": 26,
     "metadata": {},
     "output_type": "execute_result"
    }
   ],
   "source": [
    "data['bmi'].isnull().sum()"
   ]
  },
  {
   "cell_type": "code",
   "execution_count": 27,
   "metadata": {},
   "outputs": [
    {
     "data": {
      "text/plain": [
       "array(['age', 'sex', 'bmi', 'children', 'smoker', 'region', 'charges'],\n",
       "      dtype=object)"
      ]
     },
     "execution_count": 27,
     "metadata": {},
     "output_type": "execute_result"
    }
   ],
   "source": [
    "data.columns.values # it will print the names of coloumns in data"
   ]
  },
  {
   "attachments": {},
   "cell_type": "markdown",
   "metadata": {},
   "source": [
    "here test,train data is splitted , here 20 % is test data and 80% is training data"
   ]
  },
  {
   "cell_type": "code",
   "execution_count": 28,
   "metadata": {},
   "outputs": [],
   "source": [
    "ratio=0.80 # here ratio is initialized\n",
    "n_rows=data.shape[0] # now no. o rows in datset is calculated\n",
    "train_size=int(n_rows*ratio) # here 80% of dataset is calculated\n",
    "train=data[0:train_size] # starting from 0 to train_size, the data will be training data\n",
    "test=data[train_size:] # and rest 20% is test data"
   ]
  },
  {
   "cell_type": "code",
   "execution_count": 29,
   "metadata": {},
   "outputs": [],
   "source": [
    "\n",
    "X_train=train.iloc[:,[0,1,2,3,4,5]].values  #now test ,train defination is done like train_test split is done. here coloumn having index 0,1,2,3,5 a\n",
    "                                                 #are part of X_train model i.e. values in these coloumn will be the features for governing the result\n",
    "y_train=train.iloc[:,6].values # valuesin cloumn 0 is y_train i.e. output for fatures in X_train\n",
    "X_test=test.iloc[:,[0,1,2,3,4,5]].values  # here values prescribed will be used to calculate the result\n",
    "y_test=test.iloc[:,6].values # these will be used for comparison\n"
   ]
  },
  {
   "cell_type": "code",
   "execution_count": 30,
   "metadata": {},
   "outputs": [
    {
     "name": "stdout",
     "output_type": "stream",
     "text": [
      "predictions [32644.03630525 14990.16296302  5048.57892345 12238.02279304\n",
      " 10522.52291932  6243.99578503  9854.97484406  3826.25568317\n",
      " 28203.30264026 15544.62295818   -60.01798666  6270.7445788\n",
      "  3052.17656915  7106.10705454 15849.00185208 27951.32685785\n",
      " 10992.22313944 12214.54637972 17098.23147106  8222.05684098\n",
      " 34589.89828259 11352.43511021  5603.03891861 28950.47537557\n",
      " 13572.01218707  5178.27120568 37388.99127921  4661.61815891\n",
      " 12961.71911503  5464.62397109 27783.82762723 11159.72237006\n",
      "  6713.69600515 13436.86962     5054.0292083  12187.79758594\n",
      "  8576.81852691 11851.0620285   4717.45123578  7548.74331102\n",
      " 13404.51295645 33529.62398808 33059.92376796  5127.88841365\n",
      "  2216.97167835 12270.37945659 10817.53652777 29088.89032309\n",
      " 32644.03630525  4297.97622276 28176.55384648 11933.80148407\n",
      " 39054.10836091  6238.54550018 32998.79799118 13354.13016442\n",
      "  9831.34084581  9905.35763609  7106.10705454 -2581.63846809\n",
      "  6405.88714587  9988.09709167 15820.07515391  7746.90633602\n",
      "  5048.57892345 12293.85586991  8245.69083924  2190.22288458\n",
      "  7050.27397766 26561.81955681 13879.66346141 10740.56252689\n",
      "  8969.2295763   7935.8616605  12326.21253346 13542.92790397\n",
      " 37370.96515073  5408.79089422  8664.8506824   9051.96903187\n",
      "  3407.09584001 14184.04235531 34669.20777279  9849.52455922\n",
      " 10347.99389258  6294.22099212 29033.21483115  3075.81056741\n",
      "  5795.75165877 10242.09319354 10628.89637315 11154.42967014\n",
      "  9102.3518239   1797.81183519  9019.61236833  6575.1234727\n",
      " 15046.15362482  2301.88903832  9158.18490078  8240.24055439\n",
      " 25422.07818718 32230.169162   15406.36559559  6713.53842022\n",
      "  5934.16660629  3025.58536031 33340.66866361  8245.69083924\n",
      "  5795.75165877 28982.67445419 14234.42514734  3799.5068894\n",
      "  4634.86936513  9406.57313287 27397.02444762  7879.87099869\n",
      " 31527.92893387 14963.41416924 32948.25761422  3025.58536031\n",
      "  8683.03439581  7797.28912805 13404.51295645 11795.38653655\n",
      "  4578.87870333  2739.23259489 26561.81955681  9438.92979642\n",
      "  8659.40039756  6299.8288619   5104.25441539 13930.04625344\n",
      "  5048.57892345 13044.30098568 25893.9563117   3052.17656915\n",
      " 12686.42450423 31090.5853773  30559.60179546 13492.70269687\n",
      "  7880.02858362  7935.8616605   -171.68414041 12686.42450423\n",
      "  5851.58473564  4656.16787406  7829.64579159  7156.48984656\n",
      " 33396.65932541  9125.82823723  5408.63330929  7105.94946961\n",
      " 10218.30161035 25344.94660138  7437.07715728  9462.56379467\n",
      "  3881.93117511 11933.80148407 11827.58561517 12601.50714426\n",
      " 37084.61238532 24957.98583684 10684.57186509  8222.05684098\n",
      "  9075.4454452   5048.57892345 12131.80692414 10965.47434566\n",
      "  5934.00902135  8683.19198074 39473.425789   40252.79760293\n",
      "  3518.60440883  5021.83012968  2272.96234015  3270.0585918\n",
      "  9131.27852207  6825.20457396  4242.45831575 31808.67382952\n",
      " 27367.94016452 -2941.85043886 26207.05787089  9574.07236349\n",
      "  5801.20194361 11021.46500747 15512.42387956 11408.26818708\n",
      " 15152.21190879  9743.15110538  4965.83946787  6326.7352406\n",
      "  8632.65160378  8245.69083924 11458.65097911 34539.35790563\n",
      " 11800.8368214  28977.22416934  4634.86936513  8771.0665513\n",
      "  5491.37276487  5408.79089422 10043.61499868  5883.78381426\n",
      " 26594.01863543  8222.05684098  5795.75165877  6188.16270815\n",
      " 30199.38982469  4685.09457223  9799.14176719 33004.09069109\n",
      " 23730.21231171  2715.75618157 39423.04299697  7354.49528663\n",
      "   967.8996443   5857.03502048 30311.21356337  9881.72363783\n",
      "  4242.14314588 25427.68605696  1443.05014926  9544.98808039\n",
      " 10992.22313944  1498.88322613  1437.59986442  4298.13380769\n",
      "  6713.53842022  1853.64491206 32980.61427777 39473.26820407\n",
      "  1859.0951969  30984.3695084  31421.55548004  3412.54612485\n",
      " 26118.86813047 31140.8105844  28176.55384648  9937.55671471\n",
      "  8659.40039756  6188.16270815 10324.67506418 26673.48571056\n",
      " 29448.94470893  1880.39370583  -972.35446327  8710.09835944\n",
      " 11204.65487724  7073.75039099  8765.61626646 36922.56343954\n",
      " 15825.52543875 37444.98194102  6270.7445788  14990.16296302\n",
      " 10573.06329628 12270.37945659  3462.77133195 13935.49653829\n",
      " 11464.10126395  4634.86936513 16347.7863553  13542.92790397\n",
      "  3407.09584001  4242.45831575  3025.58536031 36895.81464577]\n",
      "MSE: 38365306.16739218\n",
      "Accuracy: 0.7520018959251754\n"
     ]
    }
   ],
   "source": [
    "\n",
    "def mean_squared_error(y_true, y_pred):\n",
    "        return np.mean((y_true - y_pred) ** 2)\n",
    "\n",
    "def r2_score(y_true, y_pred):\n",
    "    corr_matrix = np.corrcoef(y_true, y_pred)\n",
    "    corr = corr_matrix[0, 1]\n",
    "    return corr ** 2   \n",
    "\n",
    "   \n",
    "\n",
    "regressor = LinearRegression(learning_rate=0.06, n_iters=1000) #here we called the linearregression algorithm where learning arte=0.06,iterations are 1000 is sent\n",
    "regressor.fit(X_train, y_train)#here we called the function fit which will be used like training the model i.e. these values will help in providing the answers for X_test feaures\n",
    "predictions = regressor.predict(X_test)# here predict function is called and X_test values are passed for classification\n",
    "print(\"predictions\",predictions)# final values are printed\n",
    "\n",
    "mse = mean_squared_error(y_test, predictions) #here mean square error are calculated using mean_squared_error function\n",
    "print(\"MSE:\", mse) # final value are printed\n",
    "\n",
    "accu = r2_score(y_test, predictions) # this is to calculate the frequency\n",
    "print(\"Accuracy:\", accu) # final value are printed\n",
    "\n"
   ]
  },
  {
   "attachments": {},
   "cell_type": "markdown",
   "metadata": {},
   "source": [
    "now using coorelation between features"
   ]
  },
  {
   "cell_type": "code",
   "execution_count": 31,
   "metadata": {},
   "outputs": [
    {
     "data": {
      "text/plain": [
       "<Axes: >"
      ]
     },
     "execution_count": 31,
     "metadata": {},
     "output_type": "execute_result"
    },
    {
     "data": {
      "image/png": "[encoded data removed]",
      "text/plain": [
       "<Figure size 640x480 with 2 Axes>"
      ]
     },
     "metadata": {},
     "output_type": "display_data"
    }
   ],
   "source": [
    " \n",
    "%matplotlib inline \n",
    "import seaborn as sns \n",
    "corr = train.corr()    \n",
    "sns.heatmap(corr, annot=True) # this is to draw heatmap which is used to tell correlation among features and labels; basically it \n",
    "                              #gives info for e.g. which features for label has more weight or more important for the decision and \n",
    "                              # also we can remove unwanted/less affecting features  "
   ]
  },
  {
   "cell_type": "code",
   "execution_count": 32,
   "metadata": {},
   "outputs": [
    {
     "data": {
      "text/plain": [
       "array(['age', 'sex', 'bmi', 'children', 'smoker', 'region', 'charges'],\n",
       "      dtype=object)"
      ]
     },
     "execution_count": 32,
     "metadata": {},
     "output_type": "execute_result"
    }
   ],
   "source": [
    "data.columns.values"
   ]
  },
  {
   "cell_type": "code",
   "execution_count": 33,
   "metadata": {},
   "outputs": [
    {
     "name": "stdout",
     "output_type": "stream",
     "text": [
      "predictions [32965.10041381 15126.43922158  5432.56479482 11123.62393054\n",
      " 10388.39916851  6276.68671716 10279.5020082   3853.21811047\n",
      " 28962.28512276 15126.43922158  -149.59718058  6276.68671716\n",
      "  3117.99334844  7856.03340151 15126.43922158 26647.71367638\n",
      " 11123.62393054 12702.97061489 17441.01066797  9544.27724618\n",
      " 35388.5690205  11123.62393054  5432.56479482 28962.28512276\n",
      " 12702.97061489  3009.09618813 36232.69094283  5432.56479482\n",
      " 12702.97061489  5432.56479482 26647.71367638 11123.62393054\n",
      "  7011.91147918 14282.31729925  6276.68671716 12702.97061489\n",
      "  8700.15532385 11123.62393054  5432.56479482  7120.80863949\n",
      " 12702.97061489 32965.10041381 32229.87565179  3853.21811047\n",
      "  2273.87142611 12702.97061489  8700.15532385 28962.28512276\n",
      " 32965.10041381  3117.99334844 28962.28512276 11858.84869256\n",
      " 37812.03762719  5432.56479482 32120.97849148 13547.09253723\n",
      " 11123.62393054  9435.38008587  7856.03340151 -1728.94386494\n",
      "  4697.3400328  10170.6048479  15861.66398361  7964.93056182\n",
      "  5432.56479482 11123.62393054  8700.15532385  2273.87142611\n",
      "  7856.03340151 26538.81651607 14282.31729925 10279.5020082\n",
      "  9544.27724618  7856.03340151 12702.97061489 12702.97061489\n",
      " 38656.15954952  5432.56479482  9544.27724618 10279.5020082\n",
      "  3009.09618813 14282.31729925 33809.22233614  9435.38008587\n",
      "  8700.15532385  4697.3400328  29697.50988479  2273.87142611\n",
      "  5432.56479482 11014.72677023 10279.5020082  11014.72677023\n",
      "  9435.38008587  1429.74950378  8700.15532385  6276.68671716\n",
      " 15861.66398361  2273.87142611  9435.38008587  7856.03340151\n",
      " 24959.46983172 32229.87565179 15861.66398361  6276.68671716\n",
      "  5432.56479482  3853.21811047 33073.99757412  8700.15532385\n",
      "  5432.56479482 29806.4070451  13438.19537692  3853.21811047\n",
      "  5432.56479482  8700.15532385 27382.93843841  7120.80863949\n",
      " 30541.63180712 15126.43922158 32229.87565179  3853.21811047\n",
      "  7856.03340151  7120.80863949 12702.97061489 11858.84869256\n",
      "  4697.3400328   1429.74950378 26538.81651607 10279.5020082\n",
      "  8700.15532385  6276.68671716  4697.3400328  13438.19537692\n",
      "  5432.56479482 12702.97061489 24959.46983172  3117.99334844\n",
      " 12702.97061489 31385.75372945 29806.4070451  14282.31729925\n",
      "  7856.03340151  7856.03340151  -149.59718058 12702.97061489\n",
      "  5432.56479482  4588.44287249  8700.15532385  7011.91147918\n",
      " 33809.22233614  7856.03340151  4697.3400328   7120.80863949\n",
      " 11123.62393054 25803.59175405  7120.80863949  9435.38008587\n",
      "  3117.99334844 11858.84869256 12702.97061489 12702.97061489\n",
      " 36232.69094283 25803.59175405  9544.27724618  9544.27724618\n",
      "  8700.15532385  5432.56479482 11967.74585287 11123.62393054\n",
      "  4697.3400328   8591.25816354 39391.38431155 40235.50623388\n",
      "  2273.87142611  5432.56479482  3009.09618813  2273.87142611\n",
      "  8700.15532385  6276.68671716  4588.44287249 31385.75372945\n",
      " 27382.93843841 -1728.94386494 27382.93843841  8700.15532385\n",
      "  6276.68671716 11858.84869256 14282.31729925 11123.62393054\n",
      " 14282.31729925  9544.27724618  4697.3400328   7011.91147918\n",
      "  8700.15532385  8700.15532385 10279.5020082  35497.46618081\n",
      " 12702.97061489 28962.28512276  5432.56479482  8700.15532385\n",
      "  5432.56479482  5432.56479482  8700.15532385  6276.68671716\n",
      " 27382.93843841  9544.27724618  5432.56479482  6276.68671716\n",
      " 29806.4070451   3853.21811047 10279.5020082  32229.87565179\n",
      " 23380.12314736  3009.09618813 40235.50623388  7120.80863949\n",
      "   694.52474175  6276.68671716 30541.63180712 10279.5020082\n",
      "  3117.99334844 26538.81651607  2273.87142611  8700.15532385\n",
      " 11123.62393054  2273.87142611  1429.74950378  3853.21811047\n",
      "  6276.68671716  1429.74950378 33809.22233614 38656.15954952\n",
      "  2273.87142611 32229.87565179 30650.52896743  3853.21811047\n",
      " 25803.59175405 29806.4070451  28962.28512276 10279.5020082\n",
      "  8700.15532385  6276.68671716 11014.72677023 26538.81651607\n",
      " 28227.06036074  1429.74950378  -149.59718058  9326.48292556\n",
      "  9435.38008587  6276.68671716  7856.03340151 37076.81286517\n",
      " 16705.78590594 36967.91570486  6276.68671716 15126.43922158\n",
      " 10279.5020082  12702.97061489  2273.87142611 14282.31729925\n",
      " 11123.62393054  5432.56479482 15861.66398361 12702.97061489\n",
      "  3009.09618813  4588.44287249  3853.21811047 37076.81286517]\n",
      "MSE: 38683616.50023176\n",
      "Accuracy: 0.7501992457211827\n"
     ]
    }
   ],
   "source": [
    "X_train=train.iloc[:,[0,2,4]].values  #here most _co related data is taken in account\n",
    "y_train=train.iloc[:,6].values\n",
    "X_test=test.iloc[:,[0,2,4]].values\n",
    "y_test=test.iloc[:,6].values\n",
    "\n",
    "#mse is difference between actual value and approximate or predicted value and we square the differnce ; divide by number of rows which is mean\n",
    "def mean_squared_error(y_true, y_pred):\n",
    "        return np.mean((y_true - y_pred) ** 2) # here y_true is nothing but y_train which is original value according to dataset provided\n",
    "                                               # and y_pred is predicted value from the model\n",
    "\n",
    "\n",
    "# The r2_score function is to  evaluate the performance of regression models by measuring the \n",
    "# proportion of the variance in the dependent variable (y_true) that can be explained by the independent variable (y_pred).\n",
    "def r2_score(y_true, y_pred):\n",
    "    corr_matrix = np.corrcoef(y_true, y_pred)\n",
    "    corr = corr_matrix[0, 1]\n",
    "    return corr ** 2   \n",
    "\n",
    "   \n",
    "\n",
    "regressor = LinearRegression(learning_rate=0.06, n_iters=1000) # h#here we called the linear regression algorithm where learning_rate=0.06, n_iters=1000\n",
    "regressor.fit(X_train, y_train)#here we called the function fit which will be used like training the model i.e. these values will help in providing the answers for X_test feaures\n",
    "predictions = regressor.predict(X_test) # here predict function is called and X_test values are passed for classification\n",
    "print(\"predictions\",predictions)\n",
    "mse = mean_squared_error(y_test, predictions) # calling of mean_squared_error function\n",
    "print(\"MSE:\", mse)\n",
    "\n",
    "accu = r2_score(y_test, predictions) # calling of score function\n",
    "print(\"Accuracy:\", accu)\n",
    "\n"
   ]
  }
 ],
 "metadata": {
  "kernelspec": {
   "display_name": "Python 3",
   "language": "python",
   "name": "python3"
  },
  "language_info": {
   "codemirror_mode": {
    "name": "ipython",
    "version": 3
   },
   "file_extension": ".py",
   "mimetype": "text/x-python",
   "name": "python",
   "nbconvert_exporter": "python",
   "pygments_lexer": "ipython3",
   "version": "3.10.11"
  },
  "orig_nbformat": 4
 },
 "nbformat": 4,
 "nbformat_minor": 2
}
